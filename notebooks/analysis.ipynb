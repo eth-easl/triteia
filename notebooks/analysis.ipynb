{
 "cells": [
  {
   "cell_type": "code",
   "execution_count": 16,
   "metadata": {},
   "outputs": [
    {
     "ename": "ModuleNotFoundError",
     "evalue": "No module named 'triteia.utils'",
     "output_type": "error",
     "traceback": [
      "\u001b[0;31m---------------------------------------------------------------------------\u001b[0m",
      "\u001b[0;31mModuleNotFoundError\u001b[0m                       Traceback (most recent call last)",
      "Cell \u001b[0;32mIn[16], line 4\u001b[0m\n\u001b[1;32m      2\u001b[0m \u001b[38;5;28;01mimport\u001b[39;00m \u001b[38;5;21;01mpandas\u001b[39;00m \u001b[38;5;28;01mas\u001b[39;00m \u001b[38;5;21;01mpd\u001b[39;00m\n\u001b[1;32m      3\u001b[0m \u001b[38;5;28;01mimport\u001b[39;00m \u001b[38;5;21;01mnumpy\u001b[39;00m \u001b[38;5;28;01mas\u001b[39;00m \u001b[38;5;21;01mnp\u001b[39;00m\n\u001b[0;32m----> 4\u001b[0m \u001b[38;5;28;01mfrom\u001b[39;00m \u001b[38;5;21;01mtriteia\u001b[39;00m\u001b[38;5;21;01m.\u001b[39;00m\u001b[38;5;21;01mutils\u001b[39;00m\u001b[38;5;21;01m.\u001b[39;00m\u001b[38;5;21;01mplot_utils\u001b[39;00m \u001b[38;5;28;01mimport\u001b[39;00m set_matplotlib_style\n\u001b[1;32m      5\u001b[0m set_matplotlib_style()\n",
      "\u001b[0;31mModuleNotFoundError\u001b[0m: No module named 'triteia.utils'"
     ]
    }
   ],
   "source": [
    "import json\n",
    "import pandas as pd\n",
    "import numpy as np\n",
    "from triteia.utils.plot_utils import set_matplotlib_style\n",
    "set_matplotlib_style()"
   ]
  },
  {
   "cell_type": "code",
   "execution_count": 8,
   "metadata": {},
   "outputs": [],
   "source": [
    "with open('../.local/ibmm.json', 'r') as fp:\n",
    "    ibmm_data = json.load(fp)\n",
    "with open(\"../.local/naive.json\", 'r') as fp:\n",
    "    naive_data = json.load(fp)"
   ]
  },
  {
   "cell_type": "code",
   "execution_count": 10,
   "metadata": {},
   "outputs": [
    {
     "name": "stdout",
     "output_type": "stream",
     "text": [
      "Naive total time:  5267229.7\n",
      "IBMM total time:  1258240.0\n",
      "Naive kernel time:  466596.0\n",
      "IBMM kernel time:  338946.0\n"
     ]
    }
   ],
   "source": [
    "naive_total_time = sum([x['TAvg (ns)'] * x['Count'] for x in naive_data])\n",
    "ibmm_total_time = sum([x['TAvg (ns)']* x['Count'] for x in ibmm_data])\n",
    "naive_kernel_calls = [x for x in naive_data if 'marlin::Marlin_2_4' in x['Kernel Name']]\n",
    "ibmm_kernel_calls = [x for x in ibmm_data if 'marlin::IBMM_2_4' in x['Kernel Name']]\n",
    "naive_kernel_time = sum([x['KAvg (ns)'] * x['Count'] for x in naive_kernel_calls])\n",
    "ibmm_kernel_time = sum([x['KAvg (ns)'] * x['Count'] for x in ibmm_kernel_calls])\n",
    "print(\"Naive total time: \", naive_total_time)\n",
    "print(\"IBMM total time: \", ibmm_total_time)\n",
    "print(\"Naive kernel time: \", naive_kernel_time)\n",
    "print(\"IBMM kernel time: \", ibmm_kernel_time)"
   ]
  },
  {
   "cell_type": "code",
   "execution_count": null,
   "metadata": {},
   "outputs": [],
   "source": [
    "# stacked bar chart\n",
    "import matplotlib.pyplot as plot\n",
    "import numpy as np\n"
   ]
  }
 ],
 "metadata": {
  "kernelspec": {
   "display_name": "Python 3",
   "language": "python",
   "name": "python3"
  },
  "language_info": {
   "codemirror_mode": {
    "name": "ipython",
    "version": 3
   },
   "file_extension": ".py",
   "mimetype": "text/x-python",
   "name": "python",
   "nbconvert_exporter": "python",
   "pygments_lexer": "ipython3",
   "version": "3.11.8"
  }
 },
 "nbformat": 4,
 "nbformat_minor": 2
}
